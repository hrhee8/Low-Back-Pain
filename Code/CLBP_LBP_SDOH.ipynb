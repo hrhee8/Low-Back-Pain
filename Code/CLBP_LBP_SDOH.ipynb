{
 "cells": [
  {
   "cell_type": "code",
   "execution_count": 1,
   "metadata": {},
   "outputs": [],
   "source": [
    "#To check if the patient visitied more than 2 times within 12 week period\n",
    "\n",
    "import pandas as pd\n",
    "import os\n",
    "import matplotlib.pyplot as plt\n",
    "import numpy as np\n",
    "\n",
    "Desktop = os.path.join(os.path.expanduser(\"~\"), \"Desktop\")\n",
    "\n",
    "filepath_root = os.path.join(Desktop, \"LBP_Revision\")\n",
    "inclusion_root = os.path.join(filepath_root, \"Inclusion_Codes\") #inclusion code location\n",
    "filtered_root = os.path.join(filepath_root, \"Filtered_Files\") #Filtered data location (Filtered data aggregated all diagnosis by patient)\n",
    "unfiltered_root = os.path.join(filepath_root, \"All_csv_files\") #unfiltered data location\n",
    "combined_root = os.path.join(filepath_root, \"LBP_X_Files\") #LBP + X filtered location\n",
    "classify_root = os.path.join(filepath_root, \"Sorted_Files\") #6 groups location\n"
   ]
  },
  {
   "cell_type": "code",
   "execution_count": 2,
   "metadata": {},
   "outputs": [],
   "source": [
    "Project_root = os.path.join(filepath_root, \"Project\")\n",
    "root_3_1 = os.path.join(Project_root, \"3-1\")\n",
    "root_3_1_CLBP_csv_path = os.path.join(root_3_1,'CLBP.csv')\n",
    "CLBP = pd.read_csv(root_3_1_CLBP_csv_path, encoding = 'utf8',dtype=str, index_col=0)\n",
    "root_3_1_nonCLBP_csv_path = os.path.join(root_3_1,'Non_CLBP.csv')\n",
    "nonCLBP = pd.read_csv(root_3_1_nonCLBP_csv_path, encoding = 'utf8',dtype=str, index_col=0)"
   ]
  },
  {
   "cell_type": "code",
   "execution_count": 3,
   "metadata": {},
   "outputs": [
    {
     "data": {
      "text/plain": [
       "Index(['EMPI', 'MGH_MRN', 'Date.prc', 'Date.dia', 'Code_Type.prc', 'Code.prc',\n",
       "       'Code_Type.dia', 'Code.dia', 'Diagnosis_Name', 'Procedure_Name',\n",
       "       'Gender_Legal_Sex', 'Age', 'Language', 'Race1', 'Marital_status',\n",
       "       'Religion', 'Date_Of_Death', 'AgeAtPrc', 'Admit_Date', 'Discharge_Date',\n",
       "       'Discharge_Disposition', 'diagnosis_list', 'Diagnosis_list_combined',\n",
       "       'Diagnosis_list_no_NA', 'City', 'State', 'Zip', 'Country',\n",
       "       'Insurance_1', 'Insurance_2', 'Insurance_3', 'Phone_Code',\n",
       "       'Physical_Date', 'BMI', 'Height', 'Weight', 'Smoking', 'Alcohol_Use',\n",
       "       'Helper', 'Date_combined', 'Date_diff', 'CLBP'],\n",
       "      dtype='object')"
      ]
     },
     "execution_count": 3,
     "metadata": {},
     "output_type": "execute_result"
    }
   ],
   "source": [
    "CLBP.keys()"
   ]
  },
  {
   "cell_type": "code",
   "execution_count": 4,
   "metadata": {},
   "outputs": [
    {
     "data": {
      "text/html": [
       "<div>\n",
       "<style scoped>\n",
       "    .dataframe tbody tr th:only-of-type {\n",
       "        vertical-align: middle;\n",
       "    }\n",
       "\n",
       "    .dataframe tbody tr th {\n",
       "        vertical-align: top;\n",
       "    }\n",
       "\n",
       "    .dataframe thead th {\n",
       "        text-align: right;\n",
       "    }\n",
       "</style>\n",
       "<table border=\"1\" class=\"dataframe\">\n",
       "  <thead>\n",
       "    <tr style=\"text-align: right;\">\n",
       "      <th></th>\n",
       "      <th>Counts</th>\n",
       "      <th>Percentage (%)</th>\n",
       "    </tr>\n",
       "  </thead>\n",
       "  <tbody>\n",
       "    <tr>\n",
       "      <th>White</th>\n",
       "      <td>532</td>\n",
       "      <td>83.65</td>\n",
       "    </tr>\n",
       "    <tr>\n",
       "      <th>Black</th>\n",
       "      <td>31</td>\n",
       "      <td>4.87</td>\n",
       "    </tr>\n",
       "    <tr>\n",
       "      <th>Other</th>\n",
       "      <td>30</td>\n",
       "      <td>4.72</td>\n",
       "    </tr>\n",
       "    <tr>\n",
       "      <th>Asian</th>\n",
       "      <td>21</td>\n",
       "      <td>3.30</td>\n",
       "    </tr>\n",
       "    <tr>\n",
       "      <th>Declined</th>\n",
       "      <td>13</td>\n",
       "      <td>2.04</td>\n",
       "    </tr>\n",
       "    <tr>\n",
       "      <th>Unavailable</th>\n",
       "      <td>6</td>\n",
       "      <td>0.94</td>\n",
       "    </tr>\n",
       "    <tr>\n",
       "      <th>American Indian or Alaska Native</th>\n",
       "      <td>2</td>\n",
       "      <td>0.31</td>\n",
       "    </tr>\n",
       "    <tr>\n",
       "      <th>Unknown</th>\n",
       "      <td>1</td>\n",
       "      <td>0.16</td>\n",
       "    </tr>\n",
       "  </tbody>\n",
       "</table>\n",
       "</div>"
      ],
      "text/plain": [
       "                                  Counts  Percentage (%)\n",
       "White                                532           83.65\n",
       "Black                                 31            4.87\n",
       "Other                                 30            4.72\n",
       "Asian                                 21            3.30\n",
       "Declined                              13            2.04\n",
       "Unavailable                            6            0.94\n",
       "American Indian or Alaska Native       2            0.31\n",
       "Unknown                                1            0.16"
      ]
     },
     "execution_count": 4,
     "metadata": {},
     "output_type": "execute_result"
    },
    {
     "data": {
      "image/png": "[encoded data removed]",
      "text/plain": [
       "<Figure size 432x288 with 1 Axes>"
      ]
     },
     "metadata": {
      "needs_background": "light"
     },
     "output_type": "display_data"
    }
   ],
   "source": [
    "CLBP.Race1.value_counts().plot(kind='bar')\n",
    "nonCLBP.Race1.value_counts().plot(kind='bar')\n",
    "\n",
    "pd.concat([nonCLBP.Race1.value_counts(),nonCLBP.Race1.value_counts(normalize=True).mul(100).round(2)], axis = 1, keys=('Counts','Percentage (%)'))\n",
    "pd.concat([CLBP.Race1.value_counts(),CLBP.Race1.value_counts(normalize=True).mul(100).round(2)], axis = 1, keys=('Counts','Percentage (%)'))"
   ]
  },
  {
   "cell_type": "code",
   "execution_count": 5,
   "metadata": {},
   "outputs": [
    {
     "data": {
      "text/plain": [
       "\"\\nCLBP_nonCLBP_race = pd.DataFrame({'CLBP': CLBP.Race1.value_counts(), 'nonCLBP': nonCLBP.Race1.value_counts()})\\nnonCLBP.Language.value_counts().plot(kind='pie')\\nnonCLBP.Language.value_counts(normalize=True).mul(100).round(2).astype(str) + '%'\\nCLBP_nonCLBP_language = pd.DataFrame({'CLBP': CLBP.Language.value_counts(), 'nonCLBP': nonCLBP.Language.value_counts()})\\naxes = CLBP_nonCLBP_language.plot.bar(rot=0, subplots=True)\\naxes[0].legend(loc=2)  \\npd.concat([CLBP.Language.value_counts(),CLBP.Language.value_counts(normalize=True).mul(100).round(2),nonCLBP.Language.value_counts(),nonCLBP.Language.value_counts(normalize=True).mul(100).round(2)], axis = 1, keys=('CLBP Counts','CLBP Percentage (%)','nonCLBP Counts','nonCLBP Percentage (%)'))\\npd.concat([CLBP.Religion.value_counts(),CLBP.Religion.value_counts(normalize=True).mul(100).round(2),nonCLBP.Religion.value_counts(),nonCLBP.Religion.value_counts(normalize=True).mul(100).round(2)], axis = 1, keys=('CLBP Counts','CLBP Percentage (%)','nonCLBP Counts','nonCLBP Percentage (%)'))\\n\""
      ]
     },
     "execution_count": 5,
     "metadata": {},
     "output_type": "execute_result"
    }
   ],
   "source": [
    "'''\n",
    "CLBP_nonCLBP_race = pd.DataFrame({'CLBP': CLBP.Race1.value_counts(), 'nonCLBP': nonCLBP.Race1.value_counts()})\n",
    "nonCLBP.Language.value_counts().plot(kind='pie')\n",
    "nonCLBP.Language.value_counts(normalize=True).mul(100).round(2).astype(str) + '%'\n",
    "CLBP_nonCLBP_language = pd.DataFrame({'CLBP': CLBP.Language.value_counts(), 'nonCLBP': nonCLBP.Language.value_counts()})\n",
    "axes = CLBP_nonCLBP_language.plot.bar(rot=0, subplots=True)\n",
    "axes[0].legend(loc=2)  \n",
    "pd.concat([CLBP.Language.value_counts(),CLBP.Language.value_counts(normalize=True).mul(100).round(2),nonCLBP.Language.value_counts(),nonCLBP.Language.value_counts(normalize=True).mul(100).round(2)], axis = 1, keys=('CLBP Counts','CLBP Percentage (%)','nonCLBP Counts','nonCLBP Percentage (%)'))\n",
    "pd.concat([CLBP.Religion.value_counts(),CLBP.Religion.value_counts(normalize=True).mul(100).round(2),nonCLBP.Religion.value_counts(),nonCLBP.Religion.value_counts(normalize=True).mul(100).round(2)], axis = 1, keys=('CLBP Counts','CLBP Percentage (%)','nonCLBP Counts','nonCLBP Percentage (%)'))\n",
    "'''"
   ]
  },
  {
   "cell_type": "code",
   "execution_count": 6,
   "metadata": {},
   "outputs": [],
   "source": [
    "def sumtoother(input_list, column_name, if_other):\n",
    "    sum_data = pd.DataFrame(columns = ['category','CLBP Counts','nonCLBP Counts'])\n",
    "    nonother_CLBP,nonother_nonCLBP = 0,0\n",
    "    for i in input_list:\n",
    "        #sum_data = sum_data.append({'category' : i, 'CLBP_counts' : (CLBP[column_name] == i).sum(), 'non_CLBP_counts' : (nonCLBP[column_name] == i).sum()},ignore_index=True)\n",
    "        df_dictionary = pd.DataFrame.from_dict([{'category' : i, 'CLBP Counts' : (CLBP[column_name] == i).sum(), 'nonCLBP Counts' : (nonCLBP[column_name] == i).sum()}])\n",
    "        sum_data = pd.concat([sum_data, df_dictionary],ignore_index=True)\n",
    "    if if_other == True:\n",
    "        other_category, other_CLBP, other_nonCLBP = 'other', 0,0\n",
    "        for j in CLBP[column_name]:\n",
    "            if j not in input_list:\n",
    "                other_CLBP += 1\n",
    "        for k in nonCLBP[column_name]:\n",
    "            if k not in input_list:\n",
    "                other_nonCLBP += 1\n",
    "        #sum_data = sum_data.append({'category' : other_category, 'CLBP_counts' : other_CLBP, 'non_CLBP_counts' : other_nonCLBP},ignore_index=True)\n",
    "        df_dictionary_other = pd.DataFrame.from_dict([{'category' : other_category, 'CLBP Counts' : other_CLBP, 'nonCLBP Counts' : other_nonCLBP}])\n",
    "        sum_data = pd.concat([sum_data, df_dictionary_other],ignore_index=True)\n",
    "    return sum_data\n",
    "\n",
    "    "
   ]
  },
  {
   "cell_type": "code",
   "execution_count": 7,
   "metadata": {},
   "outputs": [],
   "source": [
    "Race = sumtoother(['White','Black','American Indian or Alaska Native','Other','Asian'],'Race1',True)\n",
    "Language = sumtoother(['English','Spanish'],'Language',True)\n",
    "Religion = sumtoother(['Catholic', 'Jewish', 'Baptist', 'Protestant', 'Christian', 'Methodist', 'Orthodox', 'Episcopal', 'Islamic', 'Buddhist', 'Presbyterian'],'Religion',True)\n",
    "Gender = sumtoother(['Female','Male'],'Gender_Legal_Sex',False)\n",
    "\n"
   ]
  },
  {
   "cell_type": "code",
   "execution_count": 8,
   "metadata": {},
   "outputs": [
    {
     "data": {
      "text/html": [
       "<div>\n",
       "<style scoped>\n",
       "    .dataframe tbody tr th:only-of-type {\n",
       "        vertical-align: middle;\n",
       "    }\n",
       "\n",
       "    .dataframe tbody tr th {\n",
       "        vertical-align: top;\n",
       "    }\n",
       "\n",
       "    .dataframe thead th {\n",
       "        text-align: right;\n",
       "    }\n",
       "</style>\n",
       "<table border=\"1\" class=\"dataframe\">\n",
       "  <thead>\n",
       "    <tr style=\"text-align: right;\">\n",
       "      <th></th>\n",
       "      <th>category</th>\n",
       "      <th>CLBP Counts</th>\n",
       "      <th>nonCLBP Counts</th>\n",
       "    </tr>\n",
       "  </thead>\n",
       "  <tbody>\n",
       "    <tr>\n",
       "      <th>0</th>\n",
       "      <td>Married</td>\n",
       "      <td>321</td>\n",
       "      <td>2082</td>\n",
       "    </tr>\n",
       "    <tr>\n",
       "      <th>1</th>\n",
       "      <td>Single</td>\n",
       "      <td>152</td>\n",
       "      <td>1036</td>\n",
       "    </tr>\n",
       "    <tr>\n",
       "      <th>2</th>\n",
       "      <td>Partner</td>\n",
       "      <td>5</td>\n",
       "      <td>39</td>\n",
       "    </tr>\n",
       "    <tr>\n",
       "      <th>3</th>\n",
       "      <td>Widowed</td>\n",
       "      <td>73</td>\n",
       "      <td>646</td>\n",
       "    </tr>\n",
       "    <tr>\n",
       "      <th>4</th>\n",
       "      <td>Divorced</td>\n",
       "      <td>69</td>\n",
       "      <td>423</td>\n",
       "    </tr>\n",
       "  </tbody>\n",
       "</table>\n",
       "</div>"
      ],
      "text/plain": [
       "   category CLBP Counts nonCLBP Counts\n",
       "0   Married         321           2082\n",
       "1    Single         152           1036\n",
       "2   Partner           5             39\n",
       "3   Widowed          73            646\n",
       "4  Divorced          69            423"
      ]
     },
     "execution_count": 8,
     "metadata": {},
     "output_type": "execute_result"
    }
   ],
   "source": [
    "marital_status = sumtoother(['Married','Single','Partner','Widowed','Divorced'],'Marital_status',False)\n",
    "#marital_status.CLBP_counts.sum()\n",
    "#marital_status[['CLBP_counts','non_CLBP_counts']].astype(float)\n",
    "marital_status"
   ]
  },
  {
   "cell_type": "code",
   "execution_count": 10,
   "metadata": {},
   "outputs": [],
   "source": [
    "def add_percentage_column(x):\n",
    "    CLBP_sum = x['CLBP Counts'].sum()\n",
    "    nonCLBP_sum = x['nonCLBP Counts'].sum()\n",
    "    x['CLBP percentage (%)'] = x['CLBP Counts'] / CLBP_sum * 100\n",
    "    x['nonCLBP percentage (%)'] = x['nonCLBP Counts'] / nonCLBP_sum * 100\n",
    "    x = x[['CLBP Counts', 'CLBP percentage (%)','nonCLBP Counts','nonCLBP percentage (%)']]\n",
    "    return x\n"
   ]
  },
  {
   "cell_type": "code",
   "execution_count": 11,
   "metadata": {},
   "outputs": [],
   "source": [
    "marital_status = add_percentage_column(marital_status)\n",
    "Race = add_percentage_column(Race)\n",
    "Language = add_percentage_column(Language)\n",
    "Religion = add_percentage_column(Religion)\n",
    "Gender = add_percentage_column(Gender)\n"
   ]
  },
  {
   "cell_type": "code",
   "execution_count": 12,
   "metadata": {},
   "outputs": [
    {
     "data": {
      "text/plain": [
       "('Smoking Tobacco Use-Never Assessed',\n",
       " 'Tobacco User-Not Asked',\n",
       " 'Tobacco User-Passive')"
      ]
     },
     "execution_count": 12,
     "metadata": {},
     "output_type": "execute_result"
    }
   ],
   "source": [
    "#'Smoking', 'Alcohol_Use'\n",
    "Smoking = pd.concat([CLBP.Smoking.value_counts(),CLBP.Smoking.value_counts(normalize=True).mul(100).round(2),nonCLBP.Smoking.value_counts(),nonCLBP.Smoking.value_counts(normalize=True).mul(100).round(2)], axis = 1, keys=('CLBP Counts','CLBP Percentage (%)','nonCLBP Counts','nonCLBP Percentage (%)'))\n",
    "#Smoking.ind.names = ['Class']\n",
    "#Smoking.reset_index(level=0,inplace=True)\n",
    "Smoking\n",
    "'Smokeless Tobacco Use-Never Used', 'Tobacco User-Never', 'Smoking Tobacco Use-Never Smoker' #never\n",
    "'Tobacco User-Quit', 'Smoking Tobacco Use-Former Smoker' #quit\n",
    "'Smokeless Tobacco Use-Unknown','Smokeless Tobacco Use-Former User','Smokeless Tobacco Use-Current User' #Smokeless Tobacco\n",
    "'Tobacco Used Years','Smoking Tobacco Use-Current Every Day Smoker', 'Tobacco User-Yes' #Smoking \n",
    "'Smoking Tobacco Use-Light Tobacco Smoker','Smoking Tobacco Use-Current Some Day Smoker','Smoking Tobacco Use-Passive Smoke Exposure - Never Smoker' #Light Smoking\n",
    "'Smoking Tobacco Use-Never Assessed','Tobacco User-Not Asked','Tobacco User-Passive' #Other\n",
    "\n",
    "\n",
    "#Smoking_sum = pd.DataFrame(columns = ['category','CLBP_counts','non_CLBP_counts'])"
   ]
  },
  {
   "cell_type": "code",
   "execution_count": 13,
   "metadata": {},
   "outputs": [
    {
     "data": {
      "text/html": [
       "<div>\n",
       "<style scoped>\n",
       "    .dataframe tbody tr th:only-of-type {\n",
       "        vertical-align: middle;\n",
       "    }\n",
       "\n",
       "    .dataframe tbody tr th {\n",
       "        vertical-align: top;\n",
       "    }\n",
       "\n",
       "    .dataframe thead th {\n",
       "        text-align: right;\n",
       "    }\n",
       "</style>\n",
       "<table border=\"1\" class=\"dataframe\">\n",
       "  <thead>\n",
       "    <tr style=\"text-align: right;\">\n",
       "      <th></th>\n",
       "      <th>CLBP Counts</th>\n",
       "      <th>CLBP Percentage (%)</th>\n",
       "      <th>nonCLBP Counts</th>\n",
       "      <th>nonCLBP Percentage (%)</th>\n",
       "    </tr>\n",
       "  </thead>\n",
       "  <tbody>\n",
       "    <tr>\n",
       "      <th>Never</th>\n",
       "      <td>405.0</td>\n",
       "      <td>65.22</td>\n",
       "      <td>2738.0</td>\n",
       "      <td>65.66</td>\n",
       "    </tr>\n",
       "    <tr>\n",
       "      <th>Quit</th>\n",
       "      <td>83.0</td>\n",
       "      <td>13.37</td>\n",
       "      <td>410.0</td>\n",
       "      <td>9.83</td>\n",
       "    </tr>\n",
       "    <tr>\n",
       "      <th>Smokeless tobacco</th>\n",
       "      <td>69.0</td>\n",
       "      <td>11.11</td>\n",
       "      <td>688.0</td>\n",
       "      <td>16.50</td>\n",
       "    </tr>\n",
       "    <tr>\n",
       "      <th>Smoking tobacco</th>\n",
       "      <td>61.0</td>\n",
       "      <td>9.82</td>\n",
       "      <td>317.0</td>\n",
       "      <td>7.61</td>\n",
       "    </tr>\n",
       "    <tr>\n",
       "      <th>Light smoke</th>\n",
       "      <td>0.0</td>\n",
       "      <td>0.00</td>\n",
       "      <td>7.0</td>\n",
       "      <td>0.17</td>\n",
       "    </tr>\n",
       "    <tr>\n",
       "      <th>Other</th>\n",
       "      <td>3.0</td>\n",
       "      <td>0.48</td>\n",
       "      <td>10.0</td>\n",
       "      <td>0.24</td>\n",
       "    </tr>\n",
       "  </tbody>\n",
       "</table>\n",
       "</div>"
      ],
      "text/plain": [
       "                   CLBP Counts  CLBP Percentage (%)  nonCLBP Counts  \\\n",
       "Never                    405.0                65.22          2738.0   \n",
       "Quit                      83.0                13.37           410.0   \n",
       "Smokeless tobacco         69.0                11.11           688.0   \n",
       "Smoking tobacco           61.0                 9.82           317.0   \n",
       "Light smoke                0.0                 0.00             7.0   \n",
       "Other                      3.0                 0.48            10.0   \n",
       "\n",
       "                   nonCLBP Percentage (%)  \n",
       "Never                               65.66  \n",
       "Quit                                 9.83  \n",
       "Smokeless tobacco                   16.50  \n",
       "Smoking tobacco                      7.61  \n",
       "Light smoke                          0.17  \n",
       "Other                                0.24  "
      ]
     },
     "execution_count": 13,
     "metadata": {},
     "output_type": "execute_result"
    }
   ],
   "source": [
    "never = Smoking.loc[['Smokeless Tobacco Use-Never Used', 'Tobacco User-Never', 'Smoking Tobacco Use-Never Smoker']].sum()\n",
    "never.name = 'Never'\n",
    "quit = Smoking.loc[['Tobacco User-Quit', 'Smoking Tobacco Use-Former Smoker']].sum()\n",
    "quit.name = 'Quit'\n",
    "smokeless = Smoking.loc[['Smokeless Tobacco Use-Unknown','Smokeless Tobacco Use-Former User','Smokeless Tobacco Use-Current User']].sum()\n",
    "smokeless.name = 'Smokeless tobacco'\n",
    "smoking_tobacco = Smoking.loc[['Tobacco Used Years','Smoking Tobacco Use-Current Every Day Smoker', 'Tobacco User-Yes']].sum()\n",
    "smoking_tobacco.name = 'Smoking tobacco'\n",
    "light_smoke = Smoking.loc[['Smoking Tobacco Use-Light Tobacco Smoker','Smoking Tobacco Use-Current Some Day Smoker','Smoking Tobacco Use-Passive Smoke Exposure - Never Smoker']].sum()\n",
    "light_smoke.name = 'Light smoke'\n",
    "smoke_other = Smoking.loc[['Smoking Tobacco Use-Never Assessed','Tobacco User-Not Asked','Tobacco User-Passive']].sum()\n",
    "smoke_other.name = 'Other'\n",
    "\n",
    "\n",
    "'''\n",
    "Smoking_classify = pd.DataFrame(columns = ['CLBP Counts', 'CLBP Percentage (%)', 'nonCLBP Counts', 'nonCLBP Percentage (%)'])\n",
    "Smoking_classify = Smoking_classify.append(never.transpose())\n",
    "Smoking_classify = Smoking_classify.append(quit.transpose())\n",
    "Smoking_classify = Smoking_classify.append(smokeless.transpose())\n",
    "Smoking_classify = Smoking_classify.append(smoking_tobacco.transpose())\n",
    "Smoking_classify = Smoking_classify.append(light_smoke.transpose())\n",
    "Smoking_classify = Smoking_classify.append(smoke_other.transpose())\n",
    "'''\n",
    "Smoking_classify = pd.concat([never,quit,smokeless,smoking_tobacco,light_smoke,smoke_other],axis = 1).transpose()\n",
    "Smoking_classify"
   ]
  },
  {
   "cell_type": "code",
   "execution_count": 14,
   "metadata": {},
   "outputs": [
    {
     "data": {
      "text/html": [
       "<div>\n",
       "<style scoped>\n",
       "    .dataframe tbody tr th:only-of-type {\n",
       "        vertical-align: middle;\n",
       "    }\n",
       "\n",
       "    .dataframe tbody tr th {\n",
       "        vertical-align: top;\n",
       "    }\n",
       "\n",
       "    .dataframe thead th {\n",
       "        text-align: right;\n",
       "    }\n",
       "</style>\n",
       "<table border=\"1\" class=\"dataframe\">\n",
       "  <thead>\n",
       "    <tr style=\"text-align: right;\">\n",
       "      <th></th>\n",
       "      <th>CLBP Counts</th>\n",
       "      <th>CLBP Percentage (%)</th>\n",
       "      <th>nonCLBP Counts</th>\n",
       "      <th>nonCLBP Percentage (%)</th>\n",
       "    </tr>\n",
       "  </thead>\n",
       "  <tbody>\n",
       "    <tr>\n",
       "      <th>No Alcohol</th>\n",
       "      <td>349.0</td>\n",
       "      <td>58.26</td>\n",
       "      <td>2019.0</td>\n",
       "      <td>53.53</td>\n",
       "    </tr>\n",
       "    <tr>\n",
       "      <th>Alcohol User-Yes</th>\n",
       "      <td>235.0</td>\n",
       "      <td>39.23</td>\n",
       "      <td>1640.0</td>\n",
       "      <td>43.48</td>\n",
       "    </tr>\n",
       "    <tr>\n",
       "      <th>Other</th>\n",
       "      <td>15.0</td>\n",
       "      <td>2.51</td>\n",
       "      <td>113.0</td>\n",
       "      <td>2.99</td>\n",
       "    </tr>\n",
       "  </tbody>\n",
       "</table>\n",
       "</div>"
      ],
      "text/plain": [
       "                  CLBP Counts  CLBP Percentage (%)  nonCLBP Counts  \\\n",
       "No Alcohol              349.0                58.26          2019.0   \n",
       "Alcohol User-Yes        235.0                39.23          1640.0   \n",
       "Other                    15.0                 2.51           113.0   \n",
       "\n",
       "                  nonCLBP Percentage (%)  \n",
       "No Alcohol                         53.53  \n",
       "Alcohol User-Yes                   43.48  \n",
       "Other                               2.99  "
      ]
     },
     "execution_count": 14,
     "metadata": {},
     "output_type": "execute_result"
    }
   ],
   "source": [
    "Alcohol_use = pd.concat([CLBP.Alcohol_Use.value_counts(),CLBP.Alcohol_Use.value_counts(normalize=True).mul(100).round(2),nonCLBP.Alcohol_Use.value_counts(),nonCLBP.Alcohol_Use.value_counts(normalize=True).mul(100).round(2)], axis = 1, keys=('CLBP Counts','CLBP Percentage (%)','nonCLBP Counts','nonCLBP Percentage (%)'))\n",
    "No_Alcohol = Alcohol_use.loc[['Alcohol User-No', 'Alcohol User-Not Currently', 'Alcohol User-Never']].sum()\n",
    "No_Alcohol.name = 'No Alcohol'\n",
    "Other_Alcohol = Alcohol_use.loc[['Alcohol User-Not Asked', 'Alcohol Use Screening']].sum()\n",
    "Other_Alcohol.name = 'Other'\n",
    "\n",
    "Alcohol_classify = pd.concat([No_Alcohol, Alcohol_use.loc['Alcohol User-Yes'],Other_Alcohol],axis = 1).transpose()\n",
    "Alcohol_classify\n"
   ]
  },
  {
   "cell_type": "code",
   "execution_count": 15,
   "metadata": {},
   "outputs": [
    {
     "data": {
      "text/html": [
       "<div>\n",
       "<style scoped>\n",
       "    .dataframe tbody tr th:only-of-type {\n",
       "        vertical-align: middle;\n",
       "    }\n",
       "\n",
       "    .dataframe tbody tr th {\n",
       "        vertical-align: top;\n",
       "    }\n",
       "\n",
       "    .dataframe thead th {\n",
       "        text-align: right;\n",
       "    }\n",
       "</style>\n",
       "<table border=\"1\" class=\"dataframe\">\n",
       "  <thead>\n",
       "    <tr style=\"text-align: right;\">\n",
       "      <th></th>\n",
       "      <th>CLBP Counts</th>\n",
       "      <th>CLBP Percentage (%)</th>\n",
       "      <th>nonCLBP Counts</th>\n",
       "      <th>nonCLBP Percentage (%)</th>\n",
       "    </tr>\n",
       "  </thead>\n",
       "  <tbody>\n",
       "    <tr>\n",
       "      <th>obese</th>\n",
       "      <td>162</td>\n",
       "      <td>25.47</td>\n",
       "      <td>934</td>\n",
       "      <td>21.62</td>\n",
       "    </tr>\n",
       "    <tr>\n",
       "      <th>overweight</th>\n",
       "      <td>159</td>\n",
       "      <td>25.00</td>\n",
       "      <td>1052</td>\n",
       "      <td>24.35</td>\n",
       "    </tr>\n",
       "    <tr>\n",
       "      <th>NaN</th>\n",
       "      <td>155</td>\n",
       "      <td>24.37</td>\n",
       "      <td>1269</td>\n",
       "      <td>29.37</td>\n",
       "    </tr>\n",
       "    <tr>\n",
       "      <th>healthy</th>\n",
       "      <td>139</td>\n",
       "      <td>21.86</td>\n",
       "      <td>970</td>\n",
       "      <td>22.45</td>\n",
       "    </tr>\n",
       "    <tr>\n",
       "      <th>underweight</th>\n",
       "      <td>21</td>\n",
       "      <td>3.30</td>\n",
       "      <td>96</td>\n",
       "      <td>2.22</td>\n",
       "    </tr>\n",
       "  </tbody>\n",
       "</table>\n",
       "</div>"
      ],
      "text/plain": [
       "             CLBP Counts  CLBP Percentage (%)  nonCLBP Counts  \\\n",
       "obese                162                25.47             934   \n",
       "overweight           159                25.00            1052   \n",
       "NaN                  155                24.37            1269   \n",
       "healthy              139                21.86             970   \n",
       "underweight           21                 3.30              96   \n",
       "\n",
       "             nonCLBP Percentage (%)  \n",
       "obese                         21.62  \n",
       "overweight                    24.35  \n",
       "NaN                           29.37  \n",
       "healthy                       22.45  \n",
       "underweight                    2.22  "
      ]
     },
     "execution_count": 15,
     "metadata": {},
     "output_type": "execute_result"
    }
   ],
   "source": [
    "bmi_CLBP = CLBP['BMI'].astype(float)\n",
    "bmi_nonCLBP = nonCLBP['BMI'].astype(float)\n",
    "bins = [-np.inf,18.5, 24.9, 29.9, np.inf]\n",
    "labels = [\"underweight\",\"healthy\",\"overweight\",\"obese\"]\n",
    "BMI_CLBP_classify = pd.DataFrame(columns=['BMI Label'])\n",
    "BMI_CLBP_classify = pd.cut(bmi_CLBP, bins=bins, labels=labels)\n",
    "BMI_CLBP_classify\n",
    "BMI_nonCLBP_classify = pd.DataFrame(columns=['BMI Label'])\n",
    "BMI_nonCLBP_classify = pd.cut(bmi_nonCLBP, bins=bins, labels=labels)\n",
    "\n",
    "BMI_classify = pd.concat([BMI_CLBP_classify.value_counts(dropna=False),BMI_CLBP_classify.value_counts(normalize=True,dropna=False).mul(100).round(2),BMI_nonCLBP_classify.value_counts(dropna=False),BMI_nonCLBP_classify.value_counts(normalize=True,dropna=False).mul(100).round(2)], axis = 1, keys=('CLBP Counts','CLBP Percentage (%)','nonCLBP Counts','nonCLBP Percentage (%)'))\n",
    "BMI_classify\n",
    "\n"
   ]
  },
  {
   "cell_type": "code",
   "execution_count": 16,
   "metadata": {},
   "outputs": [
    {
     "data": {
      "text/html": [
       "<div>\n",
       "<style scoped>\n",
       "    .dataframe tbody tr th:only-of-type {\n",
       "        vertical-align: middle;\n",
       "    }\n",
       "\n",
       "    .dataframe tbody tr th {\n",
       "        vertical-align: top;\n",
       "    }\n",
       "\n",
       "    .dataframe thead th {\n",
       "        text-align: right;\n",
       "    }\n",
       "</style>\n",
       "<table border=\"1\" class=\"dataframe\">\n",
       "  <thead>\n",
       "    <tr style=\"text-align: right;\">\n",
       "      <th></th>\n",
       "      <th>CLBP Counts</th>\n",
       "      <th>CLBP percentage (%)</th>\n",
       "      <th>nonCLBP Counts</th>\n",
       "      <th>nonCLBP percentage (%)</th>\n",
       "    </tr>\n",
       "  </thead>\n",
       "  <tbody>\n",
       "    <tr>\n",
       "      <th>0</th>\n",
       "      <td>532</td>\n",
       "      <td>83.647799</td>\n",
       "      <td>3694</td>\n",
       "      <td>85.48947</td>\n",
       "    </tr>\n",
       "    <tr>\n",
       "      <th>1</th>\n",
       "      <td>31</td>\n",
       "      <td>4.874214</td>\n",
       "      <td>185</td>\n",
       "      <td>4.281416</td>\n",
       "    </tr>\n",
       "    <tr>\n",
       "      <th>2</th>\n",
       "      <td>2</td>\n",
       "      <td>0.314465</td>\n",
       "      <td>6</td>\n",
       "      <td>0.138857</td>\n",
       "    </tr>\n",
       "    <tr>\n",
       "      <th>3</th>\n",
       "      <td>30</td>\n",
       "      <td>4.716981</td>\n",
       "      <td>186</td>\n",
       "      <td>4.304559</td>\n",
       "    </tr>\n",
       "    <tr>\n",
       "      <th>4</th>\n",
       "      <td>21</td>\n",
       "      <td>3.301887</td>\n",
       "      <td>128</td>\n",
       "      <td>2.962277</td>\n",
       "    </tr>\n",
       "    <tr>\n",
       "      <th>5</th>\n",
       "      <td>20</td>\n",
       "      <td>3.144654</td>\n",
       "      <td>122</td>\n",
       "      <td>2.823421</td>\n",
       "    </tr>\n",
       "  </tbody>\n",
       "</table>\n",
       "</div>"
      ],
      "text/plain": [
       "  CLBP Counts CLBP percentage (%) nonCLBP Counts nonCLBP percentage (%)\n",
       "0         532           83.647799           3694               85.48947\n",
       "1          31            4.874214            185               4.281416\n",
       "2           2            0.314465              6               0.138857\n",
       "3          30            4.716981            186               4.304559\n",
       "4          21            3.301887            128               2.962277\n",
       "5          20            3.144654            122               2.823421"
      ]
     },
     "execution_count": 16,
     "metadata": {},
     "output_type": "execute_result"
    }
   ],
   "source": [
    "#Race.reset_index(level=0)\n",
    "Race"
   ]
  },
  {
   "cell_type": "code",
   "execution_count": 17,
   "metadata": {},
   "outputs": [],
   "source": [
    "root_3_1_classification = os.path.join(root_3_1,'Classification.xlsx')\n",
    "\n",
    "with pd.ExcelWriter(root_3_1_classification) as writer:\n",
    "   \n",
    "    # use to_excel function and specify the sheet_name and index\n",
    "    # to store the dataframe in specified sheet\n",
    "    Race.to_excel(writer, sheet_name=\"Race\")\n",
    "    Language.to_excel(writer, sheet_name=\"Language\")\n",
    "    Religion.to_excel(writer, sheet_name=\"Religion\")\n",
    "    Gender.to_excel(writer, sheet_name=\"Gender\")\n",
    "    marital_status.to_excel(writer, sheet_name=\"marital_status\")\n",
    "    Smoking_classify.to_excel(writer, sheet_name=\"Smoking\")\n",
    "    Alcohol_classify.to_excel(writer, sheet_name=\"Alcohol\")\n",
    "    BMI_classify.to_excel(writer, sheet_name=\"BMI\")"
   ]
  },
  {
   "cell_type": "code",
   "execution_count": 20,
   "metadata": {},
   "outputs": [],
   "source": [
    "zipcode = pd.concat([nonCLBP.Zip.value_counts(),CLBP.Zip.value_counts()], axis = 1, keys=('NonCLBP Counts','CLBP Counts'))\n",
    "root_3_1_zipcode = os.path.join(root_3_1,'Zipcode.xlsx')\n",
    "\n",
    "with pd.ExcelWriter(root_3_1_zipcode) as writer:\n",
    "   \n",
    "    # use to_excel function and specify the sheet_name and index\n",
    "    # to store the dataframe in specified sheet\n",
    "    zipcode.to_excel(writer, sheet_name=\"Zipcode\")"
   ]
  },
  {
   "cell_type": "code",
   "execution_count": null,
   "metadata": {},
   "outputs": [],
   "source": []
  }
 ],
 "metadata": {
  "kernelspec": {
   "display_name": "Python 3.9.12 ('base')",
   "language": "python",
   "name": "python3"
  },
  "language_info": {
   "codemirror_mode": {
    "name": "ipython",
    "version": 3
   },
   "file_extension": ".py",
   "mimetype": "text/x-python",
   "name": "python",
   "nbconvert_exporter": "python",
   "pygments_lexer": "ipython3",
   "version": "3.9.12"
  },
  "orig_nbformat": 4,
  "vscode": {
   "interpreter": {
    "hash": "30a508e8ef9e338dc1572514e7369e18543993374878a0525d6a0f73be78b849"
   }
  }
 },
 "nbformat": 4,
 "nbformat_minor": 2
}
